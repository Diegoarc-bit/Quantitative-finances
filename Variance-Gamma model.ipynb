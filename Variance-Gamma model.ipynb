{
 "cells": [
  {
   "cell_type": "code",
   "execution_count": 1,
   "id": "55c4300a",
   "metadata": {},
   "outputs": [],
   "source": [
    "# Simulaion on the proce of an asset using Variance Gamma model"
   ]
  },
  {
   "cell_type": "code",
   "execution_count": null,
   "id": "c62e37a8",
   "metadata": {},
   "outputs": [],
   "source": [
    "def var_gamma(sigma, v, theta, S0, T, r, q, n , N):\n",
    "    dt = N/T\n",
    "    w = np.log(1-theta*v-0.5*v*sigma**2)/v\n",
    "    price_vec = np.empty(n)\n",
    "    \n",
    "    for i in range(n)\n",
    "    \n",
    "    lnS0 = np.log(S0)\n",
    "    xt = 0\n",
    "    \n",
    "    for j in range(N):ç\n",
    "        gamma = np.namdom.gamma(dt/v, v)\n",
    "        z = np.random.normal(0,1)\n",
    "        xt += theta*gamma +sigma*np.sqrt(gamma)*z\n",
    "        \n",
    "        Tj = dt*(j+1)\n",
    "        lnst = lnS0 + (r-q+w) + xt\n",
    "        \n",
    "    price = np.exp(lnst)\n",
    "    price_vec[i] = price\n",
    "    \n",
    "return price_vec"
   ]
  }
 ],
 "metadata": {
  "kernelspec": {
   "display_name": "Python 3 (ipykernel)",
   "language": "python",
   "name": "python3"
  },
  "language_info": {
   "codemirror_mode": {
    "name": "ipython",
    "version": 3
   },
   "file_extension": ".py",
   "mimetype": "text/x-python",
   "name": "python",
   "nbconvert_exporter": "python",
   "pygments_lexer": "ipython3",
   "version": "3.9.12"
  }
 },
 "nbformat": 4,
 "nbformat_minor": 5
}
