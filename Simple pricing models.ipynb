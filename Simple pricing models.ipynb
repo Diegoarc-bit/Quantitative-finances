{
 "cells": [
  {
   "cell_type": "code",
   "execution_count": 1,
   "id": "fc1dde23",
   "metadata": {},
   "outputs": [],
   "source": [
    "# Implementation of the B-S formula for a European call option"
   ]
  },
  {
   "cell_type": "code",
   "execution_count": 7,
   "id": "856c09f1",
   "metadata": {},
   "outputs": [],
   "source": [
    "import numpy as np\n",
    "from scipy.stats import norm"
   ]
  },
  {
   "cell_type": "code",
   "execution_count": 64,
   "id": "c2b201c4",
   "metadata": {},
   "outputs": [],
   "source": [
    "S_0   = 100\n",
    "K     = 105\n",
    "T     = 0.5\n",
    "sigma = 0.3\n",
    "r     = 0.02\n",
    "opt = 1"
   ]
  },
  {
   "cell_type": "code",
   "execution_count": 65,
   "id": "88f387eb",
   "metadata": {},
   "outputs": [
    {
     "name": "stdout",
     "output_type": "stream",
     "text": [
      "6.779490734346545\n"
     ]
    }
   ],
   "source": [
    "def bs_call(S_0, K, T, sigma, r):\n",
    "    d_1 = (np.log(S_0/K) + T*(r + (sigma**2)/2))/(sigma*np.sqrt(T))\n",
    "    d_2 = d_1 - sigma*np.sqrt(T)\n",
    "    C_0 = S_0*norm.cdf(d_1)-K*np.exp(-r*T)*norm.cdf(d_2)\n",
    "    return C_0\n",
    "\n",
    "print(bs_call(S_0, K, T, sigma, r))"
   ]
  },
  {
   "cell_type": "code",
   "execution_count": 41,
   "id": "589bd8e4",
   "metadata": {},
   "outputs": [],
   "source": [
    "# Bachelier pricing formula for european option"
   ]
  },
  {
   "cell_type": "code",
   "execution_count": 43,
   "id": "ee641d9a",
   "metadata": {},
   "outputs": [],
   "source": [
    "S_0   = 100\n",
    "K     = 105\n",
    "T     = 0.5\n",
    "sigma = 30\n",
    "r     = 0.02\n",
    "opt = 1"
   ]
  },
  {
   "cell_type": "code",
   "execution_count": 44,
   "id": "084d6f5a",
   "metadata": {},
   "outputs": [
    {
     "name": "stdout",
     "output_type": "stream",
     "text": [
      "6.549163351317259\n"
     ]
    }
   ],
   "source": [
    "def bachelier_calls(S_0, K, T, sigma , r, opt):\n",
    "    d_plus = (S_0*np.exp(r*T)-K)/(sigma*np.sqrt(T))\n",
    "    d_minus = -d_plus\n",
    "    C_0 = np.exp(-r*T)*sigma*np.sqrt(T)*(d_plus*norm.cdf(d_plus)+norm.pdf(d_plus))\n",
    "    P_0 = np.exp(-r*T)*sigma*np.sqrt(T)*(d_minus*norm.cdf(d_minus)+norm.pdf(d_minus)) \n",
    "    if opt == 1:\n",
    "        return(C_0)\n",
    "    elif opt == -1:\n",
    "        return(P_0)\n",
    "\n",
    "print(bachelier_calls(S_0, K, T, sigma , r, opt))"
   ]
  },
  {
   "cell_type": "code",
   "execution_count": 45,
   "id": "a2041321",
   "metadata": {},
   "outputs": [],
   "source": [
    "# CEV model for european option pricing"
   ]
  },
  {
   "cell_type": "code",
   "execution_count": 46,
   "id": "91e61bdf",
   "metadata": {},
   "outputs": [],
   "source": [
    "from scipy.stats import ncx2"
   ]
  },
  {
   "cell_type": "code",
   "execution_count": 62,
   "id": "cda4c132",
   "metadata": {},
   "outputs": [],
   "source": [
    "S_0   = 100\n",
    "K     = 105\n",
    "T     = 0.5\n",
    "sigma = 0.3\n",
    "r     = 0.02\n",
    "beta = 0.99\n",
    "opt = 1"
   ]
  },
  {
   "cell_type": "code",
   "execution_count": 63,
   "id": "4f8111d7",
   "metadata": {},
   "outputs": [
    {
     "name": "stdout",
     "output_type": "stream",
     "text": [
      "6.397561504833754\n"
     ]
    }
   ],
   "source": [
    "def cev_calls(S_0, K, T, sigma, r, beta, opt):\n",
    "    v = 1/(2*(1-beta))\n",
    "    x_1 = (4*(v**2)*(K**(1/v)))/((sigma**2)*T)\n",
    "    x_2 = (4*(v**2)*(S_0*np.exp(r*T))**(1/v))/((sigma**2)*T)\n",
    "    kappa_1 = 2*v + 2\n",
    "    kappa_2 = 2*v\n",
    "    lambda_1 = x_2\n",
    "    lambda_2 = x_1\n",
    "    df = np.exp(-r*T)\n",
    "    \n",
    "    C_0 = df*(S_0*np.exp(r*T)*(1-ncx2.cdf(x_1,kappa_1, lambda_1))-K*(ncx2.cdf(x_2, kappa_2, lambda_2)))\n",
    "    P_0 = df*(S_0*np.exp(r*T)*(ncx2.cdf(x_1,kappa_1, lambda_1))-K*(1-ncx2.cdf(x_2, kappa_2, lambda_2)))\n",
    "    if opt == 1:\n",
    "        return(C_0)\n",
    "    elif opt == -1:\n",
    "        return(P_0)\n",
    "    \n",
    "print(cev_calls(S_0, K, T, sigma, r, beta, opt))"
   ]
  },
  {
   "cell_type": "code",
   "execution_count": null,
   "id": "40be55a0",
   "metadata": {},
   "outputs": [],
   "source": []
  }
 ],
 "metadata": {
  "kernelspec": {
   "display_name": "Python 3 (ipykernel)",
   "language": "python",
   "name": "python3"
  },
  "language_info": {
   "codemirror_mode": {
    "name": "ipython",
    "version": 3
   },
   "file_extension": ".py",
   "mimetype": "text/x-python",
   "name": "python",
   "nbconvert_exporter": "python",
   "pygments_lexer": "ipython3",
   "version": "3.9.12"
  }
 },
 "nbformat": 4,
 "nbformat_minor": 5
}
