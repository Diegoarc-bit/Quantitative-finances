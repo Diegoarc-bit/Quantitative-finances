{
 "cells": [
  {
   "cell_type": "code",
   "execution_count": 1,
   "id": "e97164fd",
   "metadata": {},
   "outputs": [],
   "source": [
    "# To value European options using the Heston stochastic volatility"
   ]
  },
  {
   "cell_type": "code",
   "execution_count": 49,
   "id": "f851fd14",
   "metadata": {},
   "outputs": [],
   "source": [
    "import numpy as np\n",
    "import matplotlib.pyplot as plt"
   ]
  },
  {
   "cell_type": "code",
   "execution_count": 50,
   "id": "25d562f0",
   "metadata": {},
   "outputs": [],
   "source": [
    "def heston_characteristic_eqn(u, sigma, k, p, s_0, r, t, theta, v_0):\n",
    "    lambd = np.sqrt((sigma**2)*((u**2)+1j*u)+(k-1j*p*sigma*u)**2)\n",
    "    omega_numerator = np.exp(1j*u*np.log(s_0) +1j*u*(r)*t + (1/(sigma**2))*k*theta*t*(k-1j*p*sigma*u))\n",
    "    omega_denominator = (np.cosh(lambd*t/2) + (1/lambd)*(k-1j*p*sigma*u)*np.sinh(0.5*lambd*t))**((2*k*theta)/(sigma**2))\n",
    "    omega = (omega_numerator/omega_denominator)\n",
    "    phi = omega*np.exp(-((u**2+1j*u)*v_0)/(lambd*(1/np.tanh(lambd*t/2))+(k-1j*p*sigma*u)))\n",
    "    return phi\n",
    "                    \n",
    "                       "
   ]
  },
  {
   "cell_type": "code",
   "execution_count": 51,
   "id": "cfe3226d",
   "metadata": {},
   "outputs": [],
   "source": [
    "def calc_fft_heston_call(alpha, N, delta_v, sigma, k, p, s_0, r, t, theta, v_0, K=None):\n",
    "    # delta is the indicator function\n",
    "    delta = np.zeros(N)\n",
    "    delta[0] = 1\n",
    "    delta_k = (2*np.pi)/(N*delta_v)\n",
    "    if K == None:\n",
    "        # middle strike is at the money\n",
    "        beta = np.log(s_0)-delta_k*N*0.5\n",
    "    else:\n",
    "        # middle striek is K\n",
    "        beta = np.log(K)-delta_k*N*0.5\n",
    "    k_list = np.array([(beta+(i-1)*delta_k) for i in range(1, N+1)])\n",
    "    v_list = np.arange(N)*delta_v\n",
    "    \n",
    "    # building fft input vector\n",
    "    x_numerator = np.array([((2-delta[i])*delta_v)*np.exp(-r*t) for i in range (N)])\n",
    "    x_denominator = np. array([2*(alpha +1j*i)*(alpha+1j*i+1) for i in v_list])\n",
    "    x_exp = np.array([np.exp(-1j*(beta)*i) for i in v_list])\n",
    "    x_list = (x_numerator/x_denominator)*x_exp*np.array([heston_characteristic_eqn(i-1j*(alpha+1), sigma, k, p, s_0, r, t, theta, v_0) for i in v_list])\n",
    "    \n",
    "    #fft optput\n",
    "    y_list = np.fft.fft(x_list)\n",
    "    \n",
    "    # recovering prices\n",
    "    prices = np.array([(1/np.pi)*np.exp(-alpha*(beta+(i-1)*delta_k))*np.real(y_list[i-1]) for i in range(1, N+1)])\n",
    "    \n",
    "    plt.plot(prices, np.exp(k_list))\n",
    "    plt.show()\n",
    "    return prices, np.exp(k_list)"
   ]
  },
  {
   "cell_type": "code",
   "execution_count": null,
   "id": "fea2c5da",
   "metadata": {},
   "outputs": [],
   "source": []
  },
  {
   "cell_type": "code",
   "execution_count": null,
   "id": "57058102",
   "metadata": {},
   "outputs": [],
   "source": []
  },
  {
   "cell_type": "code",
   "execution_count": null,
   "id": "ecee6f3f",
   "metadata": {},
   "outputs": [],
   "source": []
  },
  {
   "cell_type": "code",
   "execution_count": null,
   "id": "7a5e17f3",
   "metadata": {},
   "outputs": [],
   "source": []
  }
 ],
 "metadata": {
  "kernelspec": {
   "display_name": "Python 3 (ipykernel)",
   "language": "python",
   "name": "python3"
  },
  "language_info": {
   "codemirror_mode": {
    "name": "ipython",
    "version": 3
   },
   "file_extension": ".py",
   "mimetype": "text/x-python",
   "name": "python",
   "nbconvert_exporter": "python",
   "pygments_lexer": "ipython3",
   "version": "3.9.12"
  }
 },
 "nbformat": 4,
 "nbformat_minor": 5
}
