{
 "cells": [
  {
   "cell_type": "code",
   "execution_count": 2,
   "id": "9b639bd1",
   "metadata": {},
   "outputs": [],
   "source": [
    "# We show how we could use quadrature methods to price a digital option with specified risk-newtral density:"
   ]
  },
  {
   "cell_type": "code",
   "execution_count": null,
   "id": "09ef3490",
   "metadata": {},
   "outputs": [],
   "source": [
    "import numpy as np"
   ]
  },
  {
   "cell_type": "code",
   "execution_count": 3,
   "id": "2d535ec4",
   "metadata": {},
   "outputs": [],
   "source": [
    "def price_digital_call_quad(S_0, K, r, T, density_func, b , N):\n",
    "    \"\"\"Using left rieman sum\"\"\"\n",
    "    width = (b-K)/N\n",
    "    nodes = np.arrange(K,b,width)\n",
    "    areas = [width*density_func(node) for node in nodes]\n",
    "    \"\"\"Using mid point rule\"\"\"\n",
    "    #areas = [(width/2)*(density_func(node+1)+density_func(node) for node in nodes]\n",
    "    px = nmp.exp(-r*T)*sum(areas)"
   ]
  },
  {
   "cell_type": "code",
   "execution_count": null,
   "id": "63488df9",
   "metadata": {},
   "outputs": [],
   "source": []
  }
 ],
 "metadata": {
  "kernelspec": {
   "display_name": "Python 3 (ipykernel)",
   "language": "python",
   "name": "python3"
  },
  "language_info": {
   "codemirror_mode": {
    "name": "ipython",
    "version": 3
   },
   "file_extension": ".py",
   "mimetype": "text/x-python",
   "name": "python",
   "nbconvert_exporter": "python",
   "pygments_lexer": "ipython3",
   "version": "3.9.12"
  }
 },
 "nbformat": 4,
 "nbformat_minor": 5
}
