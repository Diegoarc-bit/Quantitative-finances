{
 "cells": [
  {
   "cell_type": "code",
   "execution_count": 11,
   "id": "ec4b6e51",
   "metadata": {},
   "outputs": [],
   "source": [
    "# Option prices in the SABR Model"
   ]
  },
  {
   "cell_type": "code",
   "execution_count": 27,
   "id": "77a7f4ee",
   "metadata": {},
   "outputs": [],
   "source": [
    "S_0     = 100\n",
    "K       = 105\n",
    "T       = 0.5\n",
    "sigma_0 = 30\n",
    "alpha   = 0.2\n",
    "beta    = 0.5\n",
    "rho     = 0.8\n",
    "opt     = 1"
   ]
  },
  {
   "cell_type": "code",
   "execution_count": 28,
   "id": "d278b6af",
   "metadata": {},
   "outputs": [],
   "source": [
    "def sabr_normal_model(S_0, K, T, sigma_0, alpha, beta, rho):\n",
    "    c = lambda x: x**beta\n",
    "    c_prime = lambda x: beta*(x**(beta-1))\n",
    "    c_prime_prime = lambda x: beta*(beta-1)*(x**(beta-2))\n",
    "    S_mid = (S_0+K)/2\n",
    "    gamma_1 = c_prime(S_mid)/c(S_mid)\n",
    "    gamma_2 = c_prime_prime(S_mid)/c(S_mid)\n",
    "    zeta = (alpha/(sigma_0*(1-beta)))*((S_0**(1-beta)) - (K**(1-beta)))\n",
    "    epsilon = T*(alpha**2)\n",
    "    delta = np.log((np.sqrt(1-2*rho*zeta+zeta**2)+zeta-rho)/(1-rho))\n",
    "    \n",
    "    factor = (alpha*(S_0-K))/(delta)\n",
    "    term_1 = ((2*gamma_2-gamma_1**2)/24)*((sigma_0*c(S_mid))/(alpha))**2\n",
    "    term_2 = (rho*gamma_1*siga_0*c(S_mid))/(4*alpha)\n",
    "    term_3 = (2-3*rho**2)/(24)\n",
    "    sigma = factor*(1 + (term_1+term_2+terms_3)*epsilon)\n",
    "    return sigma"
   ]
  },
  {
   "cell_type": "code",
   "execution_count": 29,
   "id": "c53b736b",
   "metadata": {},
   "outputs": [],
   "source": [
    "def sabr_call(S_0, K, T, sigma_0, r, alpha, beta, rho, opt):\n",
    "    assert(S_0!=K)\n",
    "    vol = sabr_normal_model(S_0, K, T, sigma_0, alpha, beta, rho)\n",
    "    return bachelier_call(S_0, K, T, vol, r, opt)"
   ]
  },
  {
   "cell_type": "code",
   "execution_count": null,
   "id": "a40eb8ec",
   "metadata": {},
   "outputs": [],
   "source": []
  }
 ],
 "metadata": {
  "kernelspec": {
   "display_name": "Python 3 (ipykernel)",
   "language": "python",
   "name": "python3"
  },
  "language_info": {
   "codemirror_mode": {
    "name": "ipython",
    "version": 3
   },
   "file_extension": ".py",
   "mimetype": "text/x-python",
   "name": "python",
   "nbconvert_exporter": "python",
   "pygments_lexer": "ipython3",
   "version": "3.9.12"
  }
 },
 "nbformat": 4,
 "nbformat_minor": 5
}
