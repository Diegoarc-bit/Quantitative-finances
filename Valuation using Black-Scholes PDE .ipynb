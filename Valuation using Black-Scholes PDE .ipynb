{
 "cells": [
  {
   "cell_type": "code",
   "execution_count": 1,
   "id": "e54c870d",
   "metadata": {},
   "outputs": [],
   "source": [
    "# Calculation of the price of an Americal call by solving the Black-Scholes PDE (explicit discretization scheme)"
   ]
  },
  {
   "cell_type": "code",
   "execution_count": 4,
   "id": "b619600a",
   "metadata": {},
   "outputs": [],
   "source": [
    "import numpy as np"
   ]
  },
  {
   "cell_type": "code",
   "execution_count": 33,
   "id": "50a518a2",
   "metadata": {},
   "outputs": [],
   "source": [
    "def solve_bs_pde(s0, smax, k, T, N, M, sig, r):\n",
    "    \n",
    "    # Time & Space grid\n",
    "    ht = T/N\n",
    "    hs = smax/M\n",
    "    t = np.arange(0, T+ht, ht)\n",
    "    s = np.arange(0, smax+hs, hs)\n",
    "    \n",
    "    d = 1 - (sig**2)*(s**2)*ht/(hs**2) - r*ht \n",
    "    l = 0.5*(sig**2)*(s**2)*ht/(hs**2) - 0.5*r*s*ht/hs\n",
    "    u = 0.5*(sig**2)*(s**2)*ht/(hs**2) + 0.5*r*s*ht/hs\n",
    "    \n",
    "    A = np.matrix(np.zeros((M-1,M-1)))\n",
    "    diag = d[1:]\n",
    "    upperDiag = u[1:M-1]\n",
    "    lowerDiag = l[2:M]\n",
    "    for i in range(len(upperDiag)):\n",
    "        A[i, i+1] = upperDiag[i]\n",
    "        A[i+1, i] = lowerDiag[i]\n",
    "        \n",
    "    for i in range(M-1):\n",
    "        A[i,i] = diag[i]\n",
    "    vec_eigenvalue = np.linalg.eigvals(A)\n",
    "    \n",
    "    b = u[M-1]*(s[M]-k*np.exp(-r*(T-t)))\n",
    "    # ba = u[M-1]*s([M]-k)\n",
    "    \n",
    "    diff = s-k\n",
    "    diff[diff<0] = 0\n",
    "    ter_c = np.matrix(diff[1:M]).T\n",
    "    cont_val = ter_c\n",
    "    \n",
    "    for i in range(N,1,-1):\n",
    "        bb = np.append(np.zeros(M-2),b[i]).reshape(M-1,1)\n",
    "        exercice_val = np.maximum(s[1:-1]-k, np.zeros(M-1)).reshape(M-1,1)\n",
    "        cont_val = A @ cont_val + bb\n",
    "        # exercice if exercice value exeeds continuation value\n",
    "        vec_c = np.maximum(cont_val, exercice_val)\n",
    "        \n",
    "    return vec_c"
   ]
  }
 ],
 "metadata": {
  "kernelspec": {
   "display_name": "Python 3 (ipykernel)",
   "language": "python",
   "name": "python3"
  },
  "language_info": {
   "codemirror_mode": {
    "name": "ipython",
    "version": 3
   },
   "file_extension": ".py",
   "mimetype": "text/x-python",
   "name": "python",
   "nbconvert_exporter": "python",
   "pygments_lexer": "ipython3",
   "version": "3.9.12"
  }
 },
 "nbformat": 4,
 "nbformat_minor": 5
}
